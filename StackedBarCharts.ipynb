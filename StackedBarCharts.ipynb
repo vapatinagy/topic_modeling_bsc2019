{
 "cells": [
  {
   "cell_type": "code",
   "execution_count": 11,
   "metadata": {},
   "outputs": [],
   "source": [
    "import pandas, numpy\n",
    "import matplotlib.pyplot as plt\n",
    "from matplotlib import rc"
   ]
  },
  {
   "cell_type": "code",
   "execution_count": 12,
   "metadata": {},
   "outputs": [],
   "source": [
    "# LOAD DATA\n",
    "def load_data(path):\n",
    "    \n",
    "    data_raw = open(path + '_distr.csv', encoding = 'utf-8').read()\n",
    "    data_list = data_raw.split('\\n')\n",
    "  \n",
    "    data_list_remove_empty_last_line = []\n",
    "    for row in range(0, len(data_list)-1):\n",
    "        data_list_remove_empty_last_line.append(data_list[row])\n",
    "    \n",
    "    input_table = [row.split(';') for row in data_list]\n",
    "\n",
    "    return input_table"
   ]
  },
  {
   "cell_type": "code",
   "execution_count": 13,
   "metadata": {},
   "outputs": [],
   "source": [
    "# CALCULATE NUMBER OF TOPICS\n",
    "def calculate_nr_topics(work_table):\n",
    "    \n",
    "    work_table_df = pandas.DataFrame(work_table)\n",
    "    y = numpy.array(work_table_df[len(work_table[0])-1]) \n",
    "    n_topics = numpy.unique(y)   # ['1' '2' '3' '4' '5' '6' '7'...]\n",
    "    \n",
    "    return n_topics"
   ]
  },
  {
   "cell_type": "code",
   "execution_count": 23,
   "metadata": {},
   "outputs": [],
   "source": [
    "# CREATE 100% STACKED BAR CHART FROM DISTRIBUTION OF THE DOMINANT TOPICS PER AGE GROUP\n",
    "def create_stacked_bar_for_ages(input_table):\n",
    "\n",
    "    # EXTRACT AGE AND DOMINANT TOPIC\n",
    "    work_table = []\n",
    "    for i in range (1, len(input_table)-1):\n",
    "        work_table.append([input_table[i][3], input_table[i][len(input_table[i])-1]])\n",
    "\n",
    "    n_topics = calculate_nr_topics(work_table)\n",
    "\n",
    "    # COUNT NUMBER OF DOCUMENTS WITH THE SAME DOMINANT TOPIC\n",
    "    young = [0] * len(n_topics)\n",
    "    old = [0] * len(n_topics)\n",
    "\n",
    "    for row in work_table:\n",
    "        if row[0] == 'y':\n",
    "            young[int(row[len(row) - 1]) - 1] += 1\n",
    "        else:\n",
    "            old[int(row[len(row) - 1]) - 1] += 1\n",
    "\n",
    "    print(young)\n",
    "    print(old)\n",
    "    \n",
    "    raw_data = {'blueBars': young, 'orangeBars': old}\n",
    "    chart_df = pandas.DataFrame(raw_data)\n",
    "\n",
    "    # ABSOLUTE VALUE -> PERCENTAGE\n",
    "    totals = [i + j for i, j in zip(chart_df['blueBars'], chart_df['orangeBars'])]\n",
    "    blueBars = [i / j * 100 for i, j in zip(chart_df['blueBars'], totals)]\n",
    "    orangeBars = [i / j * 100 for i, j in zip(chart_df['orangeBars'], totals)]\n",
    "\n",
    "    # CUSTOMIZE AND PLOT\n",
    "    barWidth = 0.85\n",
    "    plt.bar(n_topics, blueBars, color='#4848B7', edgecolor='white', width=barWidth, label = 'young')\n",
    "    plt.bar(n_topics, orangeBars, bottom=blueBars, color='#FF8500', edgecolor='white', width=barWidth, label = 'old')\n",
    "    plt.xticks(n_topics)\n",
    "    plt.xlabel(\"topics\")\n",
    "    plt.title(\"DISTRIBUTION OF DOMINANT TOPICS / AGE GROUP\")\n",
    "    plt.legend(loc='upper left', bbox_to_anchor=(1,1), ncol=1)\n",
    "    plt.show()\n",
    "    \n",
    "    return None"
   ]
  },
  {
   "cell_type": "code",
   "execution_count": 15,
   "metadata": {},
   "outputs": [],
   "source": [
    "# CREATE 100% STACKED BAR CHART FROM DISTRIBUTION OF THE DOMINANT TOPICS PER TEMPORAL FOCUS\n",
    "def create_stacked_bar_for_time_focus(input_table):\n",
    "\n",
    "    # EXTRACT TEMPORAL FOCUS AND DOMINANT TOPIC\n",
    "    work_table = []\n",
    "    for i in range (1, len(input_table)-1):\n",
    "        work_table.append([input_table[i][10], input_table[i][11], input_table[i][len(input_table[i])-1]])\n",
    "\n",
    "    n_topics = calculate_nr_topics(work_table)\n",
    "\n",
    "    # COUNT NUMBER OF DOCUMENTS WITH THE SAME DOMINANT TOPIC\n",
    "    past = [0] * len(n_topics)\n",
    "    future = [0] * len(n_topics)\n",
    "\n",
    "    for row in work_table:\n",
    "        if row[0] == '1':\n",
    "            past[int(row[len(row) - 1]) - 1] += 1\n",
    "        if row[1].replace('\"', '') == '1':\n",
    "            future[int(row[len(row) - 1]) - 1] += 1\n",
    "\n",
    "    print(past)\n",
    "    print(future)\n",
    "    \n",
    "    raw_data = {'greyBars': past, 'yellowBars': future}\n",
    "    chart_df = pandas.DataFrame(raw_data)\n",
    "\n",
    "    # ABSOLUTE VALUE -> PERCENTAGE\n",
    "    totals = [i + j for i, j in zip(chart_df['greyBars'], chart_df['yellowBars'])]\n",
    "    greyBars = [i / j * 100 for i, j in zip(chart_df['greyBars'], totals)]\n",
    "    yellowBars = [i / j * 100 for i, j in zip(chart_df['yellowBars'], totals)]\n",
    "\n",
    "    # CUSTOMIZE AND PLOT\n",
    "    barWidth = 0.85\n",
    "    plt.bar(n_topics, greyBars, color='#c9c7b0', edgecolor='white', width=barWidth, label = 'past')\n",
    "    plt.bar(n_topics, yellowBars, bottom=greyBars, color='#ebdd31', edgecolor='white', width=barWidth, label = 'future')\n",
    "    plt.xticks(n_topics)\n",
    "    plt.title(\"DISTRIBUTION OF DOMINANT TOPICS / TIME FOCUS\")\n",
    "    plt.xlabel(\"topics\")\n",
    "    plt.legend(loc='upper left', bbox_to_anchor=(1,1), ncol=1)\n",
    "    plt.show()\n",
    "    \n",
    "    return None"
   ]
  },
  {
   "cell_type": "code",
   "execution_count": 16,
   "metadata": {},
   "outputs": [],
   "source": [
    "# CREATE 100% STACKED BAR CHART FROM DISTRIBUTION OF THE DOMINANT TOPICS PER INTERLOCUTOR\n",
    "def create_stacked_bar_for_interlocutor(input_table):\n",
    "\n",
    "    # EXTRACT INTERLOCUTOR AND DOMINANT TOPIC\n",
    "    work_table = []\n",
    "    for i in range (1, len(input_table)-1):\n",
    "        # PARTNER, FAMILY, FRIEND, STRANGER\n",
    "        work_table.append([input_table[i][6], input_table[i][7], input_table[i][8], input_table[i][9], input_table[i][len(input_table[i])-1]])\n",
    "\n",
    "    n_topics = calculate_nr_topics(work_table)\n",
    "\n",
    "    # COUNT NUMBER OF DOCUMENTS WITH THE SAME DOMINANT TOPIC\n",
    "    partner = [0] * len(n_topics)\n",
    "    family = [0] * len(n_topics)\n",
    "    friend = [0] * len(n_topics)\n",
    "    stranger = [0] * len(n_topics)\n",
    "\n",
    "    for row in work_table:\n",
    "        if row[0] == '1':\n",
    "            partner[int(row[len(row) - 1]) - 1] += 1\n",
    "        if row[1] == '1':\n",
    "            family[int(row[len(row) - 1]) - 1] += 1\n",
    "        if row[2] == '1':\n",
    "            friend[int(row[len(row) - 1]) - 1] += 1\n",
    "        if row[3] == '1':\n",
    "            stranger[int(row[len(row) - 1]) - 1] += 1\n",
    "\n",
    "    print(partner)\n",
    "    print(family)\n",
    "    print(friend)\n",
    "    print(stranger)\n",
    "                \n",
    "    raw_data = {'greyBars': partner, 'greenBars': family, 'orangeBars': friend, 'blackBars': stranger}    \n",
    "    chart_df = pandas.DataFrame(raw_data)\n",
    "\n",
    "    # ABSOLUTE VALUE -> PERCENTAGE\n",
    "    totals = [i + j + k + l for i, j, k, l in zip(chart_df['greyBars'], chart_df['greenBars'], chart_df['orangeBars'], chart_df['blackBars'])]\n",
    "    greyBars = [i / j * 100 for i, j in zip(chart_df['greyBars'], totals)]\n",
    "    greenBars = [i / j * 100 for i, j in zip(chart_df['greenBars'], totals)]\n",
    "    orangeBars = [i / j * 100 for i, j in zip(chart_df['orangeBars'], totals)]\n",
    "    blackBars = [i / j * 100 for i, j in zip(chart_df['blackBars'], totals)]\n",
    "\n",
    "    # CUSTOMIZE AND PLOT\n",
    "    barWidth = 0.85\n",
    "    plt.bar(n_topics, greyBars, color='#d3d3d3', edgecolor='white', width=barWidth, label = 'partner')\n",
    "    plt.bar(n_topics, greenBars, bottom=greyBars, color='#a2e000', edgecolor='white', width=barWidth, label = 'family')\n",
    "    plt.bar(n_topics, orangeBars, bottom=[i+j for i,j in zip(greyBars, greenBars)], color='#ffaf00', edgecolor='white', width=barWidth, label = 'friend')\n",
    "    plt.bar(n_topics, blackBars, bottom=[i + j + k for i, j, k in zip(greyBars, greenBars, orangeBars)], color='#000000', edgecolor='white', width=barWidth, label = 'stranger')\n",
    "    plt.xticks(n_topics)\n",
    "    plt.xlabel(\"topics\")\n",
    "\n",
    "    \n",
    "    plt.title(\"DISTRIBUTION OF DOMINANT TOPICS / INTERLOCUTOR\")\n",
    "    plt.legend(loc='upper left', bbox_to_anchor=(1,1), ncol=1)\n",
    "    plt.show()\n",
    "    \n",
    "    return None"
   ]
  },
  {
   "cell_type": "code",
   "execution_count": 25,
   "metadata": {},
   "outputs": [
    {
     "name": "stdout",
     "output_type": "stream",
     "text": [
      "[52, 167, 112, 175, 378, 374, 819, 342]\n",
      "[35, 164, 90, 162, 266, 282, 598, 275]\n"
     ]
    },
    {
     "data": {
      "image/png": "[encoded data removed]",
      "text/plain": [
       "<Figure size 432x288 with 1 Axes>"
      ]
     },
     "metadata": {
      "needs_background": "light"
     },
     "output_type": "display_data"
    },
    {
     "name": "stdout",
     "output_type": "stream",
     "text": [
      "[18, 82, 46, 73, 133, 130, 280, 151]\n",
      "[6, 56, 34, 28, 54, 68, 171, 46]\n"
     ]
    },
    {
     "data": {
      "image/png": "[encoded data removed]",
      "text/plain": [
       "<Figure size 432x288 with 1 Axes>"
      ]
     },
     "metadata": {
      "needs_background": "light"
     },
     "output_type": "display_data"
    },
    {
     "name": "stdout",
     "output_type": "stream",
     "text": [
      "[24, 85, 53, 92, 172, 175, 346, 174]\n",
      "[9, 56, 31, 70, 93, 94, 196, 98]\n",
      "[57, 163, 100, 141, 313, 299, 704, 278]\n",
      "[2, 14, 7, 26, 15, 28, 39, 23]\n"
     ]
    },
    {
     "data": {
      "image/png": "[encoded data removed]",
      "text/plain": [
       "<Figure size 432x288 with 1 Axes>"
      ]
     },
     "metadata": {
      "needs_background": "light"
     },
     "output_type": "display_data"
    }
   ],
   "source": [
    "# TUNERS\n",
    "folder = './IO_YO/TM_NMF_5/'\n",
    "models = ['NMF_TFIDF_FR', 'NMF_TFIDF_KL', 'NMF_TF_FR', 'NMF_TF_KL']\n",
    "model = models[2]\n",
    "min_df = 2\n",
    "max_df = 70\n",
    "n_topics = 8\n",
    "\n",
    "# EXECUTE\n",
    "path = folder + model + '_min' + str(min_df) + '_max' + str(max_df) + '_k' + str(n_topics)\n",
    "input_table = load_data(path)\n",
    "\n",
    "create_stacked_bar_for_ages(input_table)\n",
    "plt.show()\n",
    "create_stacked_bar_for_time_focus(input_table)\n",
    "plt.show()\n",
    "create_stacked_bar_for_interlocutor(input_table)\n",
    "plt.show()"
   ]
  },
  {
   "cell_type": "code",
   "execution_count": null,
   "metadata": {},
   "outputs": [],
   "source": []
  }
 ],
 "metadata": {
  "kernelspec": {
   "display_name": "Python 3",
   "language": "python",
   "name": "python3"
  },
  "language_info": {
   "codemirror_mode": {
    "name": "ipython",
    "version": 3
   },
   "file_extension": ".py",
   "mimetype": "text/x-python",
   "name": "python",
   "nbconvert_exporter": "python",
   "pygments_lexer": "ipython3",
   "version": "3.7.4"
  }
 },
 "nbformat": 4,
 "nbformat_minor": 4
}
